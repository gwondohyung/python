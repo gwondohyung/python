{
 "cells": [
  {
   "cell_type": "code",
   "execution_count": 7,
   "metadata": {},
   "outputs": [],
   "source": [
    "from urllib.request import urlopen\n",
    "from bs4 import BeautifulSoup"
   ]
  },
  {
   "cell_type": "code",
   "execution_count": 36,
   "metadata": {},
   "outputs": [],
   "source": [
    "news = BeautifulSoup(urlopen(\"http://news.naver.com/\"), \"lxml\").find_all('div', class_=\"newsnow_tx_inner\")"
   ]
  },
  {
   "cell_type": "code",
   "execution_count": 37,
   "metadata": {},
   "outputs": [
    {
     "data": {
      "text/plain": [
       "bs4.element.ResultSet"
      ]
     },
     "execution_count": 37,
     "metadata": {},
     "output_type": "execute_result"
    }
   ],
   "source": [
    "type(news)"
   ]
  },
  {
   "cell_type": "code",
   "execution_count": 38,
   "metadata": {},
   "outputs": [
    {
     "data": {
      "text/plain": [
       "10"
      ]
     },
     "execution_count": 38,
     "metadata": {},
     "output_type": "execute_result"
    }
   ],
   "source": [
    "len(news)"
   ]
  },
  {
   "cell_type": "code",
   "execution_count": 39,
   "metadata": {},
   "outputs": [
    {
     "data": {
      "text/plain": [
       "bs4.element.Tag"
      ]
     },
     "execution_count": 39,
     "metadata": {},
     "output_type": "execute_result"
    }
   ],
   "source": [
    "type(news[0])"
   ]
  },
  {
   "cell_type": "code",
   "execution_count": 40,
   "metadata": {},
   "outputs": [
    {
     "data": {
      "text/plain": [
       "\"\\n18년 전 DJ가 뚫었던 '핫라인'···文대통령 재개통 '눈앞에'\\n\""
      ]
     },
     "execution_count": 40,
     "metadata": {},
     "output_type": "execute_result"
    }
   ],
   "source": [
    "news[0].get_text()"
   ]
  },
  {
   "cell_type": "code",
   "execution_count": 41,
   "metadata": {},
   "outputs": [],
   "source": [
    "import re"
   ]
  },
  {
   "cell_type": "code",
   "execution_count": 42,
   "metadata": {},
   "outputs": [
    {
     "data": {
      "text/plain": [
       "['', \"18년 전 DJ가 뚫었던 '핫라인'···文대통령 재개통 '눈앞에'\", '']"
      ]
     },
     "execution_count": 42,
     "metadata": {},
     "output_type": "execute_result"
    }
   ],
   "source": [
    "re.split((\"\\n\"), news[0].get_text())"
   ]
  },
  {
   "cell_type": "code",
   "execution_count": 43,
   "metadata": {},
   "outputs": [
    {
     "data": {
      "text/plain": [
       "\" 18년 전 DJ가 뚫었던 '핫라인'···文대통령 재개통 '눈앞에' \""
      ]
     },
     "execution_count": 43,
     "metadata": {},
     "output_type": "execute_result"
    }
   ],
   "source": [
    "' '.join(re.split((\"\\n\"), news[0].get_text()))"
   ]
  },
  {
   "cell_type": "code",
   "execution_count": 44,
   "metadata": {},
   "outputs": [
    {
     "data": {
      "text/plain": [
       "list"
      ]
     },
     "execution_count": 44,
     "metadata": {},
     "output_type": "execute_result"
    }
   ],
   "source": [
    "type(re.split((\"\\n\"), news[0].get_text()))"
   ]
  },
  {
   "cell_type": "code",
   "execution_count": 45,
   "metadata": {},
   "outputs": [
    {
     "data": {
      "text/plain": [
       "str"
      ]
     },
     "execution_count": 45,
     "metadata": {},
     "output_type": "execute_result"
    }
   ],
   "source": [
    "type(' '.join(re.split((\"\\n\"), news[0].get_text())))"
   ]
  },
  {
   "cell_type": "code",
   "execution_count": 46,
   "metadata": {},
   "outputs": [
    {
     "data": {
      "text/plain": [
       "'http://news.naver.com/main/hotissue/sectionList.nhn?sid1=100&gid=1075323&mid=hot&viewType=pc&cid=1049580&nh=20180404142233#1077950'"
      ]
     },
     "execution_count": 46,
     "metadata": {},
     "output_type": "execute_result"
    }
   ],
   "source": [
    "news[0].find(\"a\")[\"href\"]"
   ]
  },
  {
   "cell_type": "code",
   "execution_count": 47,
   "metadata": {},
   "outputs": [],
   "source": [
    "from tqdm import tqdm_notebook"
   ]
  },
  {
   "cell_type": "code",
   "execution_count": 49,
   "metadata": {},
   "outputs": [
    {
     "data": {
      "application/vnd.jupyter.widget-view+json": {
       "model_id": "101fe7cb732b4b979a99568032bd689d",
       "version_major": 2,
       "version_minor": 0
      },
      "text/html": [
       "<p>Failed to display Jupyter Widget of type <code>HBox</code>.</p>\n",
       "<p>\n",
       "  If you're reading this message in the Jupyter Notebook or JupyterLab Notebook, it may mean\n",
       "  that the widgets JavaScript is still loading. If this message persists, it\n",
       "  likely means that the widgets JavaScript library is either not installed or\n",
       "  not enabled. See the <a href=\"https://ipywidgets.readthedocs.io/en/stable/user_install.html\">Jupyter\n",
       "  Widgets Documentation</a> for setup instructions.\n",
       "</p>\n",
       "<p>\n",
       "  If you're reading this message in another frontend (for example, a static\n",
       "  rendering on GitHub or <a href=\"https://nbviewer.jupyter.org/\">NBViewer</a>),\n",
       "  it may mean that your frontend doesn't currently support widgets.\n",
       "</p>\n"
      ],
      "text/plain": [
       "HBox(children=(IntProgress(value=0, max=10), HTML(value='')))"
      ]
     },
     "metadata": {},
     "output_type": "display_data"
    },
    {
     "name": "stdout",
     "output_type": "stream",
     "text": [
      "\n"
     ]
    }
   ],
   "source": [
    "link = []\n",
    "title = []\n",
    "news = BeautifulSoup(urlopen(\"http://news.naver.com/\"), \"lxml\").find_all('div', class_=\"newsnow_tx_inner\")\n",
    "\n",
    "for n in tqdm_notebook(news):\n",
    "    link.append(n.find('a')['href'])\n",
    "    title.append(' '.join(re.split((\"\\n\"), n.get_text())))"
   ]
  },
  {
   "cell_type": "code",
   "execution_count": 50,
   "metadata": {},
   "outputs": [],
   "source": [
    "import pandas as pd"
   ]
  },
  {
   "cell_type": "code",
   "execution_count": 51,
   "metadata": {},
   "outputs": [],
   "source": [
    "df = {}"
   ]
  },
  {
   "cell_type": "code",
   "execution_count": 52,
   "metadata": {},
   "outputs": [],
   "source": [
    "df[\"Link\"] = link"
   ]
  },
  {
   "cell_type": "code",
   "execution_count": 53,
   "metadata": {},
   "outputs": [],
   "source": [
    "df[\"Title\"] = title"
   ]
  },
  {
   "cell_type": "code",
   "execution_count": 54,
   "metadata": {},
   "outputs": [
    {
     "data": {
      "text/plain": [
       "{'Link': ['http://news.naver.com/main/hotissue/sectionList.nhn?sid1=100&gid=1075323&mid=hot&viewType=pc&cid=1049580&nh=20180404142233#1077950',\n",
       "  'http://news.naver.com/main/read.nhn?oid=001&sid1=101&aid=0010003898&mid=shm&viewType=pc&mode=LSD&nh=20180404152900',\n",
       "  'http://news.naver.com/main/hotissue/sectionList.nhn?sid1=100&mid=hot&viewType=pc&cid=1077611&nh=20180404154213#1077751',\n",
       "  'http://news.naver.com/main/read.nhn?oid=001&sid1=100&aid=0010003942&mid=shm&mode=LSD&nh=20180404153010',\n",
       "  'http://news.naver.com/main/read.nhn?oid=001&sid1=103&aid=0010003715&mid=shm&mode=LSD&nh=20180404145435',\n",
       "  'http://news.naver.com/main/hotissue/sectionList.nhn?sid1=103&mid=hot&viewType=pc&cid=1075678&nh=20180404153127#1075684',\n",
       "  'http://news.naver.com/main/hotissue/sectionList.nhn?sid1=101&mid=hot&viewType=pc&cid=996387&nh=20180404152606',\n",
       "  'http://news.naver.com/main/read.nhn?oid=421&sid1=104&aid=0003298586&mid=shm&mode=LSD&nh=20180404145846',\n",
       "  'http://news.naver.com/main/read.nhn?oid=421&sid1=100&aid=0003298722&mid=shm&mode=LSD&nh=20180404153302',\n",
       "  'http://news.naver.com/main/read.nhn?oid=025&sid1=102&aid=0002810536&mid=shm&viewType=pc&mode=LSD&nh=20180404131848'],\n",
       " 'Title': [\" 18년 전 DJ가 뚫었던 '핫라인'···文대통령 재개통 '눈앞에' \",\n",
       "  ' 금융사 연체가산금리 최대 3%P로 인하…이달말부터 시행 ',\n",
       "  ' 개헌 시계 째깍째깍…이견은 커지는데 헛바퀴만 도는 협상 ',\n",
       "  ' 외교부 \"호주서 우리국민 폭행피해…신속·공정수사 요청\" ',\n",
       "  \" 봄비가 씻어낸 미세먼지…수도권, 보름 만에 '좋음' \",\n",
       "  ' 현미경으로 본 미세먼지…KF80 이상 마스크 써야 걸러진다 ',\n",
       "  ' 강공책 꺼내든 미중 무역전쟁, 협상도 속도 내나  ',\n",
       "  \" 유튜브 총격범은 30대 여성 '유튜버'…동기는 불확실 \",\n",
       "  ' 4월 국회, 의사 일정도 합의 못하고 평행선만…빈손 걱정 ',\n",
       "  ' 인질범 설득했다던 교감, 교무실에 있지도 않았다 ']}"
      ]
     },
     "execution_count": 54,
     "metadata": {},
     "output_type": "execute_result"
    }
   ],
   "source": [
    "df"
   ]
  },
  {
   "cell_type": "code",
   "execution_count": 55,
   "metadata": {},
   "outputs": [],
   "source": [
    "df = pd.DataFrame(df)"
   ]
  },
  {
   "cell_type": "code",
   "execution_count": 58,
   "metadata": {},
   "outputs": [],
   "source": [
    "df = df[[\"Title\", \"Link\"]]"
   ]
  },
  {
   "cell_type": "code",
   "execution_count": 57,
   "metadata": {},
   "outputs": [
    {
     "data": {
      "text/html": [
       "<div>\n",
       "<style scoped>\n",
       "    .dataframe tbody tr th:only-of-type {\n",
       "        vertical-align: middle;\n",
       "    }\n",
       "\n",
       "    .dataframe tbody tr th {\n",
       "        vertical-align: top;\n",
       "    }\n",
       "\n",
       "    .dataframe thead th {\n",
       "        text-align: right;\n",
       "    }\n",
       "</style>\n",
       "<table border=\"1\" class=\"dataframe\">\n",
       "  <thead>\n",
       "    <tr style=\"text-align: right;\">\n",
       "      <th></th>\n",
       "      <th>Title</th>\n",
       "      <th>Link</th>\n",
       "    </tr>\n",
       "  </thead>\n",
       "  <tbody>\n",
       "    <tr>\n",
       "      <th>0</th>\n",
       "      <td>18년 전 DJ가 뚫었던 '핫라인'···文대통령 재개통 '눈앞에'</td>\n",
       "      <td>http://news.naver.com/main/hotissue/sectionLis...</td>\n",
       "    </tr>\n",
       "    <tr>\n",
       "      <th>1</th>\n",
       "      <td>금융사 연체가산금리 최대 3%P로 인하…이달말부터 시행</td>\n",
       "      <td>http://news.naver.com/main/read.nhn?oid=001&amp;si...</td>\n",
       "    </tr>\n",
       "    <tr>\n",
       "      <th>2</th>\n",
       "      <td>개헌 시계 째깍째깍…이견은 커지는데 헛바퀴만 도는 협상</td>\n",
       "      <td>http://news.naver.com/main/hotissue/sectionLis...</td>\n",
       "    </tr>\n",
       "    <tr>\n",
       "      <th>3</th>\n",
       "      <td>외교부 \"호주서 우리국민 폭행피해…신속·공정수사 요청\"</td>\n",
       "      <td>http://news.naver.com/main/read.nhn?oid=001&amp;si...</td>\n",
       "    </tr>\n",
       "    <tr>\n",
       "      <th>4</th>\n",
       "      <td>봄비가 씻어낸 미세먼지…수도권, 보름 만에 '좋음'</td>\n",
       "      <td>http://news.naver.com/main/read.nhn?oid=001&amp;si...</td>\n",
       "    </tr>\n",
       "    <tr>\n",
       "      <th>5</th>\n",
       "      <td>현미경으로 본 미세먼지…KF80 이상 마스크 써야 걸러진다</td>\n",
       "      <td>http://news.naver.com/main/hotissue/sectionLis...</td>\n",
       "    </tr>\n",
       "    <tr>\n",
       "      <th>6</th>\n",
       "      <td>강공책 꺼내든 미중 무역전쟁, 협상도 속도 내나</td>\n",
       "      <td>http://news.naver.com/main/hotissue/sectionLis...</td>\n",
       "    </tr>\n",
       "    <tr>\n",
       "      <th>7</th>\n",
       "      <td>유튜브 총격범은 30대 여성 '유튜버'…동기는 불확실</td>\n",
       "      <td>http://news.naver.com/main/read.nhn?oid=421&amp;si...</td>\n",
       "    </tr>\n",
       "    <tr>\n",
       "      <th>8</th>\n",
       "      <td>4월 국회, 의사 일정도 합의 못하고 평행선만…빈손 걱정</td>\n",
       "      <td>http://news.naver.com/main/read.nhn?oid=421&amp;si...</td>\n",
       "    </tr>\n",
       "    <tr>\n",
       "      <th>9</th>\n",
       "      <td>인질범 설득했다던 교감, 교무실에 있지도 않았다</td>\n",
       "      <td>http://news.naver.com/main/read.nhn?oid=025&amp;si...</td>\n",
       "    </tr>\n",
       "  </tbody>\n",
       "</table>\n",
       "</div>"
      ],
      "text/plain": [
       "                                    Title  \\\n",
       "0   18년 전 DJ가 뚫었던 '핫라인'···文대통령 재개통 '눈앞에'    \n",
       "1         금융사 연체가산금리 최대 3%P로 인하…이달말부터 시행    \n",
       "2         개헌 시계 째깍째깍…이견은 커지는데 헛바퀴만 도는 협상    \n",
       "3         외교부 \"호주서 우리국민 폭행피해…신속·공정수사 요청\"    \n",
       "4           봄비가 씻어낸 미세먼지…수도권, 보름 만에 '좋음'    \n",
       "5       현미경으로 본 미세먼지…KF80 이상 마스크 써야 걸러진다    \n",
       "6            강공책 꺼내든 미중 무역전쟁, 협상도 속도 내나     \n",
       "7          유튜브 총격범은 30대 여성 '유튜버'…동기는 불확실    \n",
       "8        4월 국회, 의사 일정도 합의 못하고 평행선만…빈손 걱정    \n",
       "9             인질범 설득했다던 교감, 교무실에 있지도 않았다    \n",
       "\n",
       "                                                Link  \n",
       "0  http://news.naver.com/main/hotissue/sectionLis...  \n",
       "1  http://news.naver.com/main/read.nhn?oid=001&si...  \n",
       "2  http://news.naver.com/main/hotissue/sectionLis...  \n",
       "3  http://news.naver.com/main/read.nhn?oid=001&si...  \n",
       "4  http://news.naver.com/main/read.nhn?oid=001&si...  \n",
       "5  http://news.naver.com/main/hotissue/sectionLis...  \n",
       "6  http://news.naver.com/main/hotissue/sectionLis...  \n",
       "7  http://news.naver.com/main/read.nhn?oid=421&si...  \n",
       "8  http://news.naver.com/main/read.nhn?oid=421&si...  \n",
       "9  http://news.naver.com/main/read.nhn?oid=025&si...  "
      ]
     },
     "execution_count": 57,
     "metadata": {},
     "output_type": "execute_result"
    }
   ],
   "source": [
    "df"
   ]
  },
  {
   "cell_type": "code",
   "execution_count": 59,
   "metadata": {},
   "outputs": [],
   "source": [
    "df.to_csv(\"./news.csv\")"
   ]
  },
  {
   "cell_type": "code",
   "execution_count": 66,
   "metadata": {},
   "outputs": [
    {
     "name": "stdout",
     "output_type": "stream",
     "text": [
      " C 드라이브의 볼륨에는 이름이 없습니다.\n",
      " 볼륨 일련 번호: 3C1A-977A\n",
      "\n",
      " C:\\Users\\Geonhwan\\Documents\\GitHub\\python\\Leegeonhwan_2013136078 디렉터리\n",
      "\n",
      "2018-04-04  오후 03:46    <DIR>          .\n",
      "2018-04-04  오후 03:46    <DIR>          ..\n",
      "2018-04-04  오후 03:23    <DIR>          .ipynb_checkpoints\n",
      "2018-03-28  오후 03:47         1,583,530 chapter_02.ipynb\n",
      "2018-04-04  오후 03:23    <DIR>          chapter_3\n",
      "2018-04-04  오후 02:06           731,897 chapter_3.ipynb\n",
      "2018-03-28  오전 12:10         7,009,595 Chapter06.ipynb\n",
      "2018-03-28  오전 12:10            13,469 Chapter07.ipynb\n",
      "2018-03-28  오후 02:49    <DIR>          data\n",
      "2018-04-04  오후 03:46             1,931 news.csv\n",
      "2018-03-28  오전 12:10               604 test.ipynb\n",
      "2018-03-28  오후 02:50               555 Untitled.ipynb\n",
      "2018-04-04  오후 03:45            18,282 Untitled1.ipynb\n",
      "               8개 파일           9,359,863 바이트\n",
      "               5개 디렉터리  192,639,766,528 바이트 남음\n"
     ]
    }
   ],
   "source": [
    "% ls"
   ]
  },
  {
   "cell_type": "code",
   "execution_count": 67,
   "metadata": {},
   "outputs": [
    {
     "data": {
      "text/html": [
       "<div>\n",
       "<style scoped>\n",
       "    .dataframe tbody tr th:only-of-type {\n",
       "        vertical-align: middle;\n",
       "    }\n",
       "\n",
       "    .dataframe tbody tr th {\n",
       "        vertical-align: top;\n",
       "    }\n",
       "\n",
       "    .dataframe thead th {\n",
       "        text-align: right;\n",
       "    }\n",
       "</style>\n",
       "<table border=\"1\" class=\"dataframe\">\n",
       "  <thead>\n",
       "    <tr style=\"text-align: right;\">\n",
       "      <th></th>\n",
       "      <th>Unnamed: 0</th>\n",
       "      <th>Title</th>\n",
       "      <th>Link</th>\n",
       "    </tr>\n",
       "  </thead>\n",
       "  <tbody>\n",
       "    <tr>\n",
       "      <th>0</th>\n",
       "      <td>0</td>\n",
       "      <td>18년 전 DJ가 뚫었던 '핫라인'···文대통령 재개통 '눈앞에'</td>\n",
       "      <td>http://news.naver.com/main/hotissue/sectionLis...</td>\n",
       "    </tr>\n",
       "    <tr>\n",
       "      <th>1</th>\n",
       "      <td>1</td>\n",
       "      <td>금융사 연체가산금리 최대 3%P로 인하…이달말부터 시행</td>\n",
       "      <td>http://news.naver.com/main/read.nhn?oid=001&amp;si...</td>\n",
       "    </tr>\n",
       "    <tr>\n",
       "      <th>2</th>\n",
       "      <td>2</td>\n",
       "      <td>개헌 시계 째깍째깍…이견은 커지는데 헛바퀴만 도는 협상</td>\n",
       "      <td>http://news.naver.com/main/hotissue/sectionLis...</td>\n",
       "    </tr>\n",
       "    <tr>\n",
       "      <th>3</th>\n",
       "      <td>3</td>\n",
       "      <td>외교부 \"호주서 우리국민 폭행피해…신속·공정수사 요청\"</td>\n",
       "      <td>http://news.naver.com/main/read.nhn?oid=001&amp;si...</td>\n",
       "    </tr>\n",
       "    <tr>\n",
       "      <th>4</th>\n",
       "      <td>4</td>\n",
       "      <td>봄비가 씻어낸 미세먼지…수도권, 보름 만에 '좋음'</td>\n",
       "      <td>http://news.naver.com/main/read.nhn?oid=001&amp;si...</td>\n",
       "    </tr>\n",
       "    <tr>\n",
       "      <th>5</th>\n",
       "      <td>5</td>\n",
       "      <td>현미경으로 본 미세먼지…KF80 이상 마스크 써야 걸러진다</td>\n",
       "      <td>http://news.naver.com/main/hotissue/sectionLis...</td>\n",
       "    </tr>\n",
       "    <tr>\n",
       "      <th>6</th>\n",
       "      <td>6</td>\n",
       "      <td>강공책 꺼내든 미중 무역전쟁, 협상도 속도 내나</td>\n",
       "      <td>http://news.naver.com/main/hotissue/sectionLis...</td>\n",
       "    </tr>\n",
       "    <tr>\n",
       "      <th>7</th>\n",
       "      <td>7</td>\n",
       "      <td>유튜브 총격범은 30대 여성 '유튜버'…동기는 불확실</td>\n",
       "      <td>http://news.naver.com/main/read.nhn?oid=421&amp;si...</td>\n",
       "    </tr>\n",
       "    <tr>\n",
       "      <th>8</th>\n",
       "      <td>8</td>\n",
       "      <td>4월 국회, 의사 일정도 합의 못하고 평행선만…빈손 걱정</td>\n",
       "      <td>http://news.naver.com/main/read.nhn?oid=421&amp;si...</td>\n",
       "    </tr>\n",
       "    <tr>\n",
       "      <th>9</th>\n",
       "      <td>9</td>\n",
       "      <td>인질범 설득했다던 교감, 교무실에 있지도 않았다</td>\n",
       "      <td>http://news.naver.com/main/read.nhn?oid=025&amp;si...</td>\n",
       "    </tr>\n",
       "  </tbody>\n",
       "</table>\n",
       "</div>"
      ],
      "text/plain": [
       "   Unnamed: 0                                   Title  \\\n",
       "0           0   18년 전 DJ가 뚫었던 '핫라인'···文대통령 재개통 '눈앞에'    \n",
       "1           1         금융사 연체가산금리 최대 3%P로 인하…이달말부터 시행    \n",
       "2           2         개헌 시계 째깍째깍…이견은 커지는데 헛바퀴만 도는 협상    \n",
       "3           3         외교부 \"호주서 우리국민 폭행피해…신속·공정수사 요청\"    \n",
       "4           4           봄비가 씻어낸 미세먼지…수도권, 보름 만에 '좋음'    \n",
       "5           5       현미경으로 본 미세먼지…KF80 이상 마스크 써야 걸러진다    \n",
       "6           6            강공책 꺼내든 미중 무역전쟁, 협상도 속도 내나     \n",
       "7           7          유튜브 총격범은 30대 여성 '유튜버'…동기는 불확실    \n",
       "8           8        4월 국회, 의사 일정도 합의 못하고 평행선만…빈손 걱정    \n",
       "9           9             인질범 설득했다던 교감, 교무실에 있지도 않았다    \n",
       "\n",
       "                                                Link  \n",
       "0  http://news.naver.com/main/hotissue/sectionLis...  \n",
       "1  http://news.naver.com/main/read.nhn?oid=001&si...  \n",
       "2  http://news.naver.com/main/hotissue/sectionLis...  \n",
       "3  http://news.naver.com/main/read.nhn?oid=001&si...  \n",
       "4  http://news.naver.com/main/read.nhn?oid=001&si...  \n",
       "5  http://news.naver.com/main/hotissue/sectionLis...  \n",
       "6  http://news.naver.com/main/hotissue/sectionLis...  \n",
       "7  http://news.naver.com/main/read.nhn?oid=421&si...  \n",
       "8  http://news.naver.com/main/read.nhn?oid=421&si...  \n",
       "9  http://news.naver.com/main/read.nhn?oid=025&si...  "
      ]
     },
     "execution_count": 67,
     "metadata": {},
     "output_type": "execute_result"
    }
   ],
   "source": [
    "pd.read_csv(\"news.csv\")"
   ]
  },
  {
   "cell_type": "code",
   "execution_count": null,
   "metadata": {},
   "outputs": [],
   "source": []
  }
 ],
 "metadata": {
  "kernelspec": {
   "display_name": "Python 3",
   "language": "python",
   "name": "python3"
  },
  "language_info": {
   "codemirror_mode": {
    "name": "ipython",
    "version": 3
   },
   "file_extension": ".py",
   "mimetype": "text/x-python",
   "name": "python",
   "nbconvert_exporter": "python",
   "pygments_lexer": "ipython3",
   "version": "3.6.4"
  }
 },
 "nbformat": 4,
 "nbformat_minor": 2
}
