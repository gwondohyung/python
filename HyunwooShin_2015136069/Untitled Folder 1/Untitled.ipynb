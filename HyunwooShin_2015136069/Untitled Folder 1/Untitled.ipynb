{
 "cells": [
  {
   "cell_type": "code",
   "execution_count": 4,
   "metadata": {},
   "outputs": [],
   "source": [
    "from urllib.request import urlopen\n",
    "from bs4 import BeautifulSoup"
   ]
  },
  {
   "cell_type": "code",
   "execution_count": 13,
   "metadata": {},
   "outputs": [],
   "source": [
    "news=BeautifulSoup(urlopen(\"http://news.naver.com/\"), \"lxml\").find_all('div',\"newsnow_tx_inner\")"
   ]
  },
  {
   "cell_type": "code",
   "execution_count": 15,
   "metadata": {},
   "outputs": [
    {
     "data": {
      "text/plain": [
       "bs4.element.ResultSet"
      ]
     },
     "execution_count": 15,
     "metadata": {},
     "output_type": "execute_result"
    }
   ],
   "source": [
    "type(news)"
   ]
  },
  {
   "cell_type": "code",
   "execution_count": 16,
   "metadata": {},
   "outputs": [
    {
     "data": {
      "text/plain": [
       "10"
      ]
     },
     "execution_count": 16,
     "metadata": {},
     "output_type": "execute_result"
    }
   ],
   "source": [
    "len(news)"
   ]
  },
  {
   "cell_type": "code",
   "execution_count": 18,
   "metadata": {},
   "outputs": [
    {
     "data": {
      "text/plain": [
       "bs4.element.Tag"
      ]
     },
     "execution_count": 18,
     "metadata": {},
     "output_type": "execute_result"
    }
   ],
   "source": [
    "type(news[0])"
   ]
  },
  {
   "cell_type": "code",
   "execution_count": 33,
   "metadata": {},
   "outputs": [
    {
     "data": {
      "text/plain": [
       "\"\\n집 장만하느라…작년 가계 여윳돈 사상 최저치 '뚝'\\n\""
      ]
     },
     "execution_count": 33,
     "metadata": {},
     "output_type": "execute_result"
    }
   ],
   "source": [
    "news[1].get_text()"
   ]
  },
  {
   "cell_type": "code",
   "execution_count": 20,
   "metadata": {},
   "outputs": [],
   "source": [
    "import re"
   ]
  },
  {
   "cell_type": "code",
   "execution_count": 25,
   "metadata": {},
   "outputs": [
    {
     "data": {
      "text/plain": [
       "['', \"18년 전 DJ가 뚫었던 '핫라인'···文대통령 재개통 '눈앞에'\", '']"
      ]
     },
     "execution_count": 25,
     "metadata": {},
     "output_type": "execute_result"
    }
   ],
   "source": [
    "re.split((\"\\n\") , news[0].get_text())"
   ]
  },
  {
   "cell_type": "code",
   "execution_count": 26,
   "metadata": {},
   "outputs": [
    {
     "data": {
      "text/plain": [
       "\" 18년 전 DJ가 뚫었던 '핫라인'···文대통령 재개통 '눈앞에' \""
      ]
     },
     "execution_count": 26,
     "metadata": {},
     "output_type": "execute_result"
    }
   ],
   "source": [
    "' '.join(re.split(('\\n'), news[0].get_text()))"
   ]
  },
  {
   "cell_type": "code",
   "execution_count": 27,
   "metadata": {},
   "outputs": [
    {
     "data": {
      "text/plain": [
       "'http://news.naver.com/main/hotissue/sectionList.nhn?sid1=100&gid=1075323&mid=hot&viewType=pc&cid=1049580&nh=20180404142233#1077950'"
      ]
     },
     "execution_count": 27,
     "metadata": {},
     "output_type": "execute_result"
    }
   ],
   "source": [
    "news[0].find('a')['href']"
   ]
  },
  {
   "cell_type": "code",
   "execution_count": 28,
   "metadata": {},
   "outputs": [],
   "source": [
    "from tqdm import tqdm_notebook"
   ]
  },
  {
   "cell_type": "code",
   "execution_count": 36,
   "metadata": {},
   "outputs": [
    {
     "data": {
      "application/vnd.jupyter.widget-view+json": {
       "model_id": "3688430ee5ac49fba712259891daa9ae",
       "version_major": 2,
       "version_minor": 0
      },
      "text/html": [
       "<p>Failed to display Jupyter Widget of type <code>HBox</code>.</p>\n",
       "<p>\n",
       "  If you're reading this message in the Jupyter Notebook or JupyterLab Notebook, it may mean\n",
       "  that the widgets JavaScript is still loading. If this message persists, it\n",
       "  likely means that the widgets JavaScript library is either not installed or\n",
       "  not enabled. See the <a href=\"https://ipywidgets.readthedocs.io/en/stable/user_install.html\">Jupyter\n",
       "  Widgets Documentation</a> for setup instructions.\n",
       "</p>\n",
       "<p>\n",
       "  If you're reading this message in another frontend (for example, a static\n",
       "  rendering on GitHub or <a href=\"https://nbviewer.jupyter.org/\">NBViewer</a>),\n",
       "  it may mean that your frontend doesn't currently support widgets.\n",
       "</p>\n"
      ],
      "text/plain": [
       "HBox(children=(IntProgress(value=0, max=10), HTML(value='')))"
      ]
     },
     "metadata": {},
     "output_type": "display_data"
    },
    {
     "name": "stdout",
     "output_type": "stream",
     "text": [
      "\n"
     ]
    }
   ],
   "source": [
    "link = []\n",
    "title = []\n",
    "news=BeautifulSoup(urlopen(\"http://news.naver.com/\"), \"lxml\").find_all('div',\"newsnow_tx_inner\")\n",
    "for n in tqdm_notebook(news):\n",
    "    link.append(n.find('a')['href'])\n",
    "    title.append(' '.join(re.split((\"\\n\"), n.get_text())))\n"
   ]
  },
  {
   "cell_type": "code",
   "execution_count": 32,
   "metadata": {},
   "outputs": [],
   "source": [
    "import pandas as pd"
   ]
  },
  {
   "cell_type": "code",
   "execution_count": 37,
   "metadata": {},
   "outputs": [
    {
     "data": {
      "text/plain": [
       "['http://news.naver.com/main/hotissue/sectionList.nhn?sid1=100&gid=1075323&mid=hot&viewType=pc&cid=1049580&nh=20180404142233#1077950',\n",
       " 'http://news.naver.com/main/read.nhn?oid=001&sid1=101&aid=0010003898&mid=shm&viewType=pc&mode=LSD&nh=20180404152900',\n",
       " 'http://news.naver.com/main/read.nhn?oid=421&sid1=100&aid=0003298722&mid=shm&mode=LSD&nh=20180404153302',\n",
       " 'http://news.naver.com/main/read.nhn?oid=001&sid1=100&aid=0010003942&mid=shm&mode=LSD&nh=20180404153010',\n",
       " 'http://news.naver.com/main/read.nhn?oid=001&sid1=103&aid=0010003715&mid=shm&mode=LSD&nh=20180404145435',\n",
       " 'http://news.naver.com/main/hotissue/sectionList.nhn?sid1=103&mid=hot&viewType=pc&cid=1075678&nh=20180404153127#1075684',\n",
       " 'http://news.naver.com/main/hotissue/sectionList.nhn?sid1=101&mid=hot&viewType=pc&cid=996387&nh=20180404152606',\n",
       " 'http://news.naver.com/main/hotissue/sectionList.nhn?sid1=100&mid=hot&viewType=pc&cid=1077611&nh=20180404125508',\n",
       " 'http://news.naver.com/main/read.nhn?oid=421&sid1=104&aid=0003298586&mid=shm&mode=LSD&nh=20180404145846',\n",
       " 'http://news.naver.com/main/read.nhn?oid=025&sid1=102&aid=0002810536&mid=shm&viewType=pc&mode=LSD&nh=20180404131848']"
      ]
     },
     "execution_count": 37,
     "metadata": {},
     "output_type": "execute_result"
    }
   ],
   "source": [
    "link"
   ]
  },
  {
   "cell_type": "code",
   "execution_count": 38,
   "metadata": {},
   "outputs": [
    {
     "data": {
      "text/plain": [
       "[\" 18년 전 DJ가 뚫었던 '핫라인'···文대통령 재개통 '눈앞에' \",\n",
       " ' 금융사 연체가산금리 최대 3%P로 인하…이달말부터 시행 ',\n",
       " ' 4월 국회, 의사 일정도 합의 못하고 평행선만…빈손 걱정 ',\n",
       " ' 외교부 \"호주서 우리국민 폭행피해…신속·공정수사 요청\" ',\n",
       " \" 봄비가 씻어낸 미세먼지…수도권, 보름 만에 '좋음' \",\n",
       " ' 현미경으로 본 미세먼지…KF80 이상 마스크 써야 걸러진다 ',\n",
       " ' 강공책 꺼내든 미중 무역전쟁, 협상도 속도 내나  ',\n",
       " \" 靑 국민투표법 개정 촉구, '지방선거 동시 국민투표 관철' 천명 \",\n",
       " \" 유튜브 총격범은 30대 여성 '유튜버'…동기는 불확실 \",\n",
       " ' 인질범 설득했다던 교감, 교무실에 있지도 않았다 ']"
      ]
     },
     "execution_count": 38,
     "metadata": {},
     "output_type": "execute_result"
    }
   ],
   "source": [
    "title"
   ]
  },
  {
   "cell_type": "code",
   "execution_count": 49,
   "metadata": {},
   "outputs": [
    {
     "name": "stdout",
     "output_type": "stream",
     "text": [
      "<class 'dict'>\n"
     ]
    }
   ],
   "source": [
    "df = {}\n",
    "print(type(df))"
   ]
  },
  {
   "cell_type": "code",
   "execution_count": 51,
   "metadata": {},
   "outputs": [],
   "source": [
    "\n",
    "df[\"Title\"] = title\n",
    "df['Link'] = link"
   ]
  },
  {
   "cell_type": "code",
   "execution_count": 52,
   "metadata": {},
   "outputs": [],
   "source": [
    "df = [['Title'], ['Link']]"
   ]
  },
  {
   "cell_type": "code",
   "execution_count": 53,
   "metadata": {},
   "outputs": [
    {
     "data": {
      "text/plain": [
       "[['Title'], ['Link']]"
      ]
     },
     "execution_count": 53,
     "metadata": {},
     "output_type": "execute_result"
    }
   ],
   "source": [
    "df"
   ]
  },
  {
   "cell_type": "code",
   "execution_count": null,
   "metadata": {},
   "outputs": [],
   "source": []
  }
 ],
 "metadata": {
  "kernelspec": {
   "display_name": "Python 3",
   "language": "python",
   "name": "python3"
  },
  "language_info": {
   "codemirror_mode": {
    "name": "ipython",
    "version": 3
   },
   "file_extension": ".py",
   "mimetype": "text/x-python",
   "name": "python",
   "nbconvert_exporter": "python",
   "pygments_lexer": "ipython3",
   "version": "3.6.4"
  }
 },
 "nbformat": 4,
 "nbformat_minor": 2
}
