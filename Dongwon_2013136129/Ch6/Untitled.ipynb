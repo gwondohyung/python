{
 "cells": [
  {
   "cell_type": "markdown",
   "metadata": {},
   "source": [
    "# 6장 19대 대선 결과 분석"
   ]
  },
  {
   "cell_type": "markdown",
   "metadata": {},
   "source": [
    "## 6-1 Selnium, Beatiful Soup을 이용한 데이터 획득 준비 작업"
   ]
  },
  {
   "cell_type": "code",
   "execution_count": 4,
   "metadata": {},
   "outputs": [],
   "source": [
    "import pandas as pd\n",
    "import pandas as np\n",
    "\n",
    "import platform\n",
    "import matplotlib.pyplot as plt\n",
    "\n",
    "%matplotlib inline\n",
    "\n",
    "path = \"C:/Windows/Fonts/Arial.ttf\"\n",
    "from matplotlib import font_manager, rc\n",
    "if platform.system() == 'Darwin':\n",
    "    rc('font', family = 'AppleGothic')\n",
    "elif platform.system() == 'Windows' :\n",
    "    font_name = font_manager.FontProperties(fname=path).get_name()\n",
    "else :\n",
    "    print('Unknown system... sorry~~~')\n",
    "plt.rcParams['axes.unicode_minus'] = False"
   ]
  },
  {
   "cell_type": "markdown",
   "metadata": {},
   "source": [
    "## 크롬 드라이버로 접속"
   ]
  },
  {
   "cell_type": "code",
   "execution_count": 5,
   "metadata": {},
   "outputs": [],
   "source": [
    "from selenium import webdriver\n",
    "import time"
   ]
  },
  {
   "cell_type": "code",
   "execution_count": 7,
   "metadata": {},
   "outputs": [
    {
     "ename": "WebDriverException",
     "evalue": "Message: 'chromedriver.exe' executable needs to be in PATH. Please see https://sites.google.com/a/chromium.org/chromedriver/home\n",
     "output_type": "error",
     "traceback": [
      "\u001b[1;31m---------------------------------------------------------------------------\u001b[0m",
      "\u001b[1;31mFileNotFoundError\u001b[0m                         Traceback (most recent call last)",
      "\u001b[1;32mD:\\Anaconda3\\lib\\site-packages\\selenium\\webdriver\\common\\service.py\u001b[0m in \u001b[0;36mstart\u001b[1;34m(self)\u001b[0m\n\u001b[0;32m     75\u001b[0m                                             \u001b[0mstderr\u001b[0m\u001b[1;33m=\u001b[0m\u001b[0mself\u001b[0m\u001b[1;33m.\u001b[0m\u001b[0mlog_file\u001b[0m\u001b[1;33m,\u001b[0m\u001b[1;33m\u001b[0m\u001b[0m\n\u001b[1;32m---> 76\u001b[1;33m                                             stdin=PIPE)\n\u001b[0m\u001b[0;32m     77\u001b[0m         \u001b[1;32mexcept\u001b[0m \u001b[0mTypeError\u001b[0m\u001b[1;33m:\u001b[0m\u001b[1;33m\u001b[0m\u001b[0m\n",
      "\u001b[1;32mD:\\Anaconda3\\lib\\subprocess.py\u001b[0m in \u001b[0;36m__init__\u001b[1;34m(self, args, bufsize, executable, stdin, stdout, stderr, preexec_fn, close_fds, shell, cwd, env, universal_newlines, startupinfo, creationflags, restore_signals, start_new_session, pass_fds, encoding, errors)\u001b[0m\n\u001b[0;32m    708\u001b[0m                                 \u001b[0merrread\u001b[0m\u001b[1;33m,\u001b[0m \u001b[0merrwrite\u001b[0m\u001b[1;33m,\u001b[0m\u001b[1;33m\u001b[0m\u001b[0m\n\u001b[1;32m--> 709\u001b[1;33m                                 restore_signals, start_new_session)\n\u001b[0m\u001b[0;32m    710\u001b[0m         \u001b[1;32mexcept\u001b[0m\u001b[1;33m:\u001b[0m\u001b[1;33m\u001b[0m\u001b[0m\n",
      "\u001b[1;32mD:\\Anaconda3\\lib\\subprocess.py\u001b[0m in \u001b[0;36m_execute_child\u001b[1;34m(self, args, executable, preexec_fn, close_fds, pass_fds, cwd, env, startupinfo, creationflags, shell, p2cread, p2cwrite, c2pread, c2pwrite, errread, errwrite, unused_restore_signals, unused_start_new_session)\u001b[0m\n\u001b[0;32m    996\u001b[0m                                          \u001b[0mos\u001b[0m\u001b[1;33m.\u001b[0m\u001b[0mfspath\u001b[0m\u001b[1;33m(\u001b[0m\u001b[0mcwd\u001b[0m\u001b[1;33m)\u001b[0m \u001b[1;32mif\u001b[0m \u001b[0mcwd\u001b[0m \u001b[1;32mis\u001b[0m \u001b[1;32mnot\u001b[0m \u001b[1;32mNone\u001b[0m \u001b[1;32melse\u001b[0m \u001b[1;32mNone\u001b[0m\u001b[1;33m,\u001b[0m\u001b[1;33m\u001b[0m\u001b[0m\n\u001b[1;32m--> 997\u001b[1;33m                                          startupinfo)\n\u001b[0m\u001b[0;32m    998\u001b[0m             \u001b[1;32mfinally\u001b[0m\u001b[1;33m:\u001b[0m\u001b[1;33m\u001b[0m\u001b[0m\n",
      "\u001b[1;31mFileNotFoundError\u001b[0m: [WinError 2] 지정된 파일을 찾을 수 없습니다",
      "\nDuring handling of the above exception, another exception occurred:\n",
      "\u001b[1;31mWebDriverException\u001b[0m                        Traceback (most recent call last)",
      "\u001b[1;32m<ipython-input-7-41cf82797335>\u001b[0m in \u001b[0;36m<module>\u001b[1;34m()\u001b[0m\n\u001b[1;32m----> 1\u001b[1;33m \u001b[0mdriver\u001b[0m \u001b[1;33m=\u001b[0m \u001b[0mwebdriver\u001b[0m\u001b[1;33m.\u001b[0m\u001b[0mChrome\u001b[0m\u001b[1;33m(\u001b[0m\u001b[1;34m'C:/Users/icaru/Documents/python/Dongwon_2013136129/Ch6/driver/chromedriver.exe'\u001b[0m\u001b[1;33m)\u001b[0m\u001b[1;33m\u001b[0m\u001b[0m\n\u001b[0m\u001b[0;32m      2\u001b[0m \u001b[0mdriver\u001b[0m\u001b[1;33m.\u001b[0m\u001b[0mget\u001b[0m\u001b[1;33m(\u001b[0m\u001b[1;34m\"http://info.nec.go.kr/\"\u001b[0m\u001b[1;33m)\u001b[0m\u001b[1;33m\u001b[0m\u001b[0m\n",
      "\u001b[1;32mD:\\Anaconda3\\lib\\site-packages\\selenium\\webdriver\\chrome\\webdriver.py\u001b[0m in \u001b[0;36m__init__\u001b[1;34m(self, executable_path, port, options, service_args, desired_capabilities, service_log_path, chrome_options)\u001b[0m\n\u001b[0;32m     66\u001b[0m             \u001b[0mservice_args\u001b[0m\u001b[1;33m=\u001b[0m\u001b[0mservice_args\u001b[0m\u001b[1;33m,\u001b[0m\u001b[1;33m\u001b[0m\u001b[0m\n\u001b[0;32m     67\u001b[0m             log_path=service_log_path)\n\u001b[1;32m---> 68\u001b[1;33m         \u001b[0mself\u001b[0m\u001b[1;33m.\u001b[0m\u001b[0mservice\u001b[0m\u001b[1;33m.\u001b[0m\u001b[0mstart\u001b[0m\u001b[1;33m(\u001b[0m\u001b[1;33m)\u001b[0m\u001b[1;33m\u001b[0m\u001b[0m\n\u001b[0m\u001b[0;32m     69\u001b[0m \u001b[1;33m\u001b[0m\u001b[0m\n\u001b[0;32m     70\u001b[0m         \u001b[1;32mtry\u001b[0m\u001b[1;33m:\u001b[0m\u001b[1;33m\u001b[0m\u001b[0m\n",
      "\u001b[1;32mD:\\Anaconda3\\lib\\site-packages\\selenium\\webdriver\\common\\service.py\u001b[0m in \u001b[0;36mstart\u001b[1;34m(self)\u001b[0m\n\u001b[0;32m     81\u001b[0m                 raise WebDriverException(\n\u001b[0;32m     82\u001b[0m                     \"'%s' executable needs to be in PATH. %s\" % (\n\u001b[1;32m---> 83\u001b[1;33m                         os.path.basename(self.path), self.start_error_message)\n\u001b[0m\u001b[0;32m     84\u001b[0m                 )\n\u001b[0;32m     85\u001b[0m             \u001b[1;32melif\u001b[0m \u001b[0merr\u001b[0m\u001b[1;33m.\u001b[0m\u001b[0merrno\u001b[0m \u001b[1;33m==\u001b[0m \u001b[0merrno\u001b[0m\u001b[1;33m.\u001b[0m\u001b[0mEACCES\u001b[0m\u001b[1;33m:\u001b[0m\u001b[1;33m\u001b[0m\u001b[0m\n",
      "\u001b[1;31mWebDriverException\u001b[0m: Message: 'chromedriver.exe' executable needs to be in PATH. Please see https://sites.google.com/a/chromium.org/chromedriver/home\n"
     ]
    }
   ],
   "source": [
    "driver = webdriver.Chrome('C:/Users/icaru/Documents/python/Dongwon_2013136129/Ch6/driver/chromedriver.exe')\n",
    "driver.get(\"http://info.nec.go.kr/\")"
   ]
  },
  {
   "cell_type": "markdown",
   "metadata": {},
   "source": [
    "#### 선거통계 시스템은 frame 사용 -> 개발도구-source에서 확인 가능\n",
    "#### switch_to_default_content - 에러방지"
   ]
  },
  {
   "cell_type": "code",
   "execution_count": null,
   "metadata": {},
   "outputs": [],
   "source": [
    "driver.switch_to_default_content()\n",
    "driver.switch_to_frame('main') # selennium 프레임 이동 명량"
   ]
  },
  {
   "cell_type": "code",
   "execution_count": null,
   "metadata": {},
   "outputs": [],
   "source": [
    "driver.find_element_by_xpath(\"\"\"//*[@id=\"header\"]/ul[1]/li[2]/a\"\"\").click()"
   ]
  },
  {
   "cell_type": "code",
   "execution_count": null,
   "metadata": {},
   "outputs": [],
   "source": [
    "driver.find_element_by_xpath(\"\"\"//*[@id=\"presubmu\"]/li[3]/a\"\"\").click()"
   ]
  },
  {
   "cell_type": "code",
   "execution_count": null,
   "metadata": {},
   "outputs": [],
   "source": [
    "driver.find_element_by_xpath(\"\"\"//*[@id=\"header\"]/div[4]/ul/li[6]/a\"\"\").click()"
   ]
  },
  {
   "cell_type": "code",
   "execution_count": null,
   "metadata": {},
   "outputs": [],
   "source": [
    "driver.find_element_by_xpath(\"\"\"//*[@id=\"electionType1\"]\"\"\").click()"
   ]
  },
  {
   "cell_type": "markdown",
   "metadata": {},
   "source": [
    "### Xpath 안에있는 option이라는 이름의 태그만 모두 가져와서 리스트에 저장"
   ]
  },
  {
   "cell_type": "code",
   "execution_count": null,
   "metadata": {},
   "outputs": [],
   "source": [
    "when_list_raw = driver.find_element_by_xpath(\"\"\"//*[@id=\"electionName\"]\"\"\")\n",
    "when_list = when_list_raw.find_elements_by_tag_name(\"option\")\n",
    "when_names_values = [option.text for option in when_list]\n",
    "when_names_values = when_names_values[1:]\n",
    "when_names_values"
   ]
  },
  {
   "cell_type": "code",
   "execution_count": null,
   "metadata": {},
   "outputs": [],
   "source": [
    "element = driver.find_element_by_id(\"electionName\")\n",
    "element.send_keys(when_names_values[0])"
   ]
  },
  {
   "cell_type": "code",
   "execution_count": null,
   "metadata": {},
   "outputs": [],
   "source": [
    "type_list_raw = driver.find_element_by_xpath(\"\"\"//*[@id=\"electionCode\"]\"\"\")\n",
    "type_list = type_list_raw.find_elements_by_tag_name(\"option\")\n",
    "type_names_values = [option.text for option in type_list]\n",
    "type_names_values = type_names_values[1:]\n",
    "type_names_values"
   ]
  },
  {
   "cell_type": "code",
   "execution_count": null,
   "metadata": {},
   "outputs": [],
   "source": [
    "element = driver.find_element_by_id(\"electionCode\")\n",
    "element.send_keys(type_names_values[0])"
   ]
  },
  {
   "cell_type": "code",
   "execution_count": null,
   "metadata": {},
   "outputs": [],
   "source": [
    "sido_list_raw = driver.find_element_by_xpath(\"\"\"//*[@id=\"cityCode\"]\"\"\")\n",
    "sido_list = sido_list_raw.find_elements_by_tag_name(\"option\")\n",
    "sido_names_values = [option.text for option in sido_list]\n",
    "sido_names_values = sido_names_values[1:]\n",
    "sido_names_values"
   ]
  },
  {
   "cell_type": "code",
   "execution_count": null,
   "metadata": {},
   "outputs": [],
   "source": [
    "element = driver.find_element_by_id(\"cityCode\")\n",
    "element.send_keys(sido_names_values[0])"
   ]
  },
  {
   "cell_type": "code",
   "execution_count": null,
   "metadata": {},
   "outputs": [],
   "source": [
    "sigun_list_raw = driver.find_element_by_xpath(\"\"\"//*[@id=\"townCode\"]\"\"\")\n",
    "sigun_list = sigun_list_raw.find_elements_by_tag_name(\"option\")\n",
    "sigun_names_values = [option.text for option in sigun_list]\n",
    "sigun_names_values =sigun_names_values[1:]\n",
    "sigun_names_values"
   ]
  },
  {
   "cell_type": "code",
   "execution_count": null,
   "metadata": {},
   "outputs": [],
   "source": [
    "element = driver.find_element_by_id(\"townCode\")\n",
    "element.send_keys(sigun_names_values[0])"
   ]
  },
  {
   "cell_type": "code",
   "execution_count": null,
   "metadata": {},
   "outputs": [],
   "source": [
    "driver.find_element_by_xpath(\"\"\"//*[@id=\"searchBtn\"]\"\"\").click()"
   ]
  },
  {
   "cell_type": "markdown",
   "metadata": {},
   "source": [
    "####  필요한 수치들을 수집하기 위해 beautifulSoup 사용"
   ]
  },
  {
   "cell_type": "code",
   "execution_count": null,
   "metadata": {},
   "outputs": [],
   "source": [
    "from bs4 import BeautifulSoup\n",
    "\n",
    "html = driver.page_source\n",
    "soup = BeautifulSoup(html, 'html.parser')"
   ]
  },
  {
   "cell_type": "markdown",
   "metadata": {},
   "source": [
    "####  td 태그의 alignR 사용"
   ]
  },
  {
   "cell_type": "code",
   "execution_count": null,
   "metadata": {},
   "outputs": [],
   "source": [
    "tmp = soup.find_all('td', 'alignR')\n",
    "tmp[1:5]"
   ]
  },
  {
   "cell_type": "markdown",
   "metadata": {},
   "source": [
    "#### 광역시도 리스트와 시도리스트를 얻어 데이터로 만듬"
   ]
  },
  {
   "cell_type": "code",
   "execution_count": null,
   "metadata": {},
   "outputs": [],
   "source": [
    "from tqdm import tqdm_notebook\n",
    "\n",
    "sido_name_list = []\n",
    "sigun_name_list = []\n",
    "\n",
    "for sido_value in tqdm_notebook(sido_names_values):\n",
    "    element = driver.find_element_by_id(\"cityCode\")\n",
    "    element.send_keys(sido_value)\n",
    "    \n",
    "\n",
    "    \n",
    "    time.sleep(1)\n",
    "\n",
    "    sigun_list_raw = driver.find_element_by_xpath(\"\"\"//*[@id=\"townCode\"]\"\"\")\n",
    "    sigun_list = sigun_list_raw.find_elements_by_tag_name(\"option\")\n",
    "\n",
    "    sigun_names_values = [option.text for option in sigun_list]\n",
    "    sigun_names_values = sigun_names_values[1:]\n",
    "    \n",
    "    for sigun_value in sigun_names_values:\n",
    "        sido_name_list.append(sido_value)\n",
    "        sigun_name_list.append(sigun_value)    "
   ]
  },
  {
   "cell_type": "markdown",
   "metadata": {},
   "source": [
    "#### 코드 결과를 panda DaraFrame으로 저장"
   ]
  },
  {
   "cell_type": "code",
   "execution_count": null,
   "metadata": {},
   "outputs": [],
   "source": [
    "election_result = pd.DataFrame({'광역시도':sido_name_list, '시군:': sigun_name_list})\n",
    "\n",
    "election_result.head()"
   ]
  },
  {
   "cell_type": "markdown",
   "metadata": {},
   "source": [
    "#### 문, 홍, 안 후보의 득표수를 전역변수에 저장"
   ]
  },
  {
   "cell_type": "code",
   "execution_count": null,
   "metadata": {},
   "outputs": [],
   "source": [
    "def get_vote_info(n):\n",
    "    html = driver.page_source\n",
    "    soup = BeautifulSoup(html, 'lxml')\n",
    "    \n",
    "    tmp = soup.find_all('td', 'alignR')\n",
    "    tmp_values = [float(tmp_val.get_text().replace(',', '')) for tmp_val in tmp[1:5]]\n",
    "    \n",
    "    pop[n] = tmp_values[0]\n",
    "    moon[n] = tmp_values[1]\n",
    "    hong[n] = tmp_values[2]\n",
    "    ahn[n] = tmp_values[3]"
   ]
  },
  {
   "cell_type": "markdown",
   "metadata": {},
   "source": [
    "#### 에러 발생시 실행할 코드, 에러난 항목을 NaN 처리"
   ]
  },
  {
   "cell_type": "code",
   "execution_count": null,
   "metadata": {},
   "outputs": [],
   "source": [
    "import numpy as np\n",
    "\n",
    "def fail_procedure(n):\n",
    "    pop[n] = np.nan\n",
    "    moon[n] = np.nan\n",
    "    hong[n] = np.nan\n",
    "    ahn[n] = np.nan"
   ]
  },
  {
   "cell_type": "code",
   "execution_count": null,
   "metadata": {},
   "outputs": [],
   "source": [
    "pop = [np.nan]*len(election_result)\n",
    "moon = [np.nan]*len(election_result)\n",
    "hong = [np.nan]*len(election_result)\n",
    "ahn = [np.nan]*len(election_result)\n",
    "\n",
    "len(pop), len(moon), len(hong), len(ahn)"
   ]
  },
  {
   "cell_type": "code",
   "execution_count": null,
   "metadata": {},
   "outputs": [],
   "source": [
    "for n in tqdm_notebook(election_result.index):\n",
    "    try:\n",
    "        element = driver.find_element_by_id(\"cityCode\")\n",
    "        element.send_keys(election_result['광역시도'][n])\n",
    "        \n",
    "        time.sleep(0.5)\n",
    "        \n",
    "        element = driver.find_element_by_id(\"townCode\")\n",
    "        element.send_keys(election_result['시군'][n])\n",
    "        \n",
    "        \n",
    "        \n",
    "        driver.find_element_by_xpath(\"\"\"//*[@id=\"searchBtn\"]\"\"\").click()\n",
    "        \n",
    "        time.sleep(0.5)\n",
    "        \n",
    "        get_vote_info(n) \n",
    "    except:\n",
    "        print(\"Error\")\n",
    "        fail_procedure(n) \n",
    "          "
   ]
  },
  {
   "cell_type": "code",
   "execution_count": null,
   "metadata": {},
   "outputs": [],
   "source": [
    "election_result['pop'] = pop\n",
    "election_result['moon'] = moon\n",
    "election_result['ahn'] = ahn\n",
    "election_result['hong'] = hong\n",
    "\n",
    "election_result.head()"
   ]
  },
  {
   "cell_type": "code",
   "execution_count": null,
   "metadata": {},
   "outputs": [],
   "source": [
    "re_try_index = election_result[election_result['pop'].isnull()].index\n",
    "\n",
    "for n in tqdm_notebook(re_try_index):\n",
    "    try:\n",
    "        element = driver.find_element_by_id(\"cityCode\")\n",
    "        element.send_keys(election_result['광역시도'][n])\n",
    "        \n",
    "        time.sleep(0.5)\n",
    "        \n",
    "        element = driver.find_element_by_id(\"townCode\")\n",
    "        element.send_keys(election_result['시군'][n])\n",
    "        \n",
    "        driver.find_element_by_xpath(\"\"\"//*[@id=\"searchBtn\"]\"\"\").click()\n",
    "        \n",
    "        time.sleep(0.5)\n",
    "        \n",
    "        get_vote_info(n)\n",
    "        \n",
    "    except:\n",
    "        print('---Error---')\n",
    "        fail_procedure(n)"
   ]
  },
  {
   "cell_type": "code",
   "execution_count": null,
   "metadata": {},
   "outputs": [],
   "source": [
    "election_result['pop'] = pop\n",
    "election_result['moon'] = moon\n",
    "election_result['ahn'] = ahn\n",
    "election_result['hong'] = hong\n",
    "\n",
    "election_result.head()"
   ]
  },
  {
   "cell_type": "markdown",
   "metadata": {},
   "source": [
    "### 결과를 csv 파일로 저장"
   ]
  },
  {
   "cell_type": "code",
   "execution_count": null,
   "metadata": {},
   "outputs": [],
   "source": [
    "election_result.to_csv('./05. election_result.csv', encoding = 'utf-8', sep=',')"
   ]
  },
  {
   "cell_type": "markdown",
   "metadata": {},
   "source": [
    "### csv 파일 읽어들임"
   ]
  },
  {
   "cell_type": "code",
   "execution_count": null,
   "metadata": {},
   "outputs": [],
   "source": [
    "election_result = pd.read_csv('C:/Users/dwlio/Documents/python/Dongwon_2013136129/Ch6/data/05. election_result.csv', encoding = 'utf-8', \n",
    "                              index_col=0)\n",
    "election_result.head()"
   ]
  },
  {
   "cell_type": "markdown",
   "metadata": {},
   "source": [
    "### 광역시도 이름을 보기 쉽게 정리"
   ]
  },
  {
   "cell_type": "code",
   "execution_count": null,
   "metadata": {},
   "outputs": [],
   "source": [
    "sido_candi = election_result['광역시도']\n",
    "sido_candi = [name[:2] if name[:2] in ['서울', '부산', '대구', '광주', '인천', '대전', '울산']\n",
    "              else '' for name in sido_candi]"
   ]
  },
  {
   "cell_type": "markdown",
   "metadata": {},
   "source": [
    "#### 이름이 두글자 이면 그대로, 세글자이면 '구'를 뺌"
   ]
  },
  {
   "cell_type": "code",
   "execution_count": null,
   "metadata": {},
   "outputs": [],
   "source": [
    "def cut_char_sigu(name):\n",
    "    return name if len(name)==2 else name[:-1]"
   ]
  },
  {
   "cell_type": "markdown",
   "metadata": {},
   "source": [
    "#### 광역시가 아닌데 행정구를 가진 도시들을 정리"
   ]
  },
  {
   "cell_type": "code",
   "execution_count": null,
   "metadata": {},
   "outputs": [],
   "source": [
    "import re\n",
    "\n",
    "sigun_candi = ['']*len(election_result)\n",
    "\n",
    "for n in election_result.index:\n",
    "    each = election_result['시군'][n]\n",
    "    if each[:2] in ['수원','성남','안양','안산','고양','용인','청주','천안','전주','포항','철원']\n",
    "        sigun_candi[n] = re.split('시', each)[0] + ' ' + ＼ + cut_char_sigu(re.split('시', each)[1])\n",
    "    \n",
    "    else:\n",
    "        sigun_candi[n] = cut_char_sigu(each)\n",
    "        \n",
    "sigun_candi\n",
    "        "
   ]
  },
  {
   "cell_type": "markdown",
   "metadata": {},
   "source": [
    "#### 광역시도 이름이 저장된 변수 sido_candi와 위 코드에서 정리한 시구군 이름이 저장된 sigun_candi를 합침\n",
    "#### ex) 의왕시-> 의왕, 중랑구-> 중랑\n",
    "#### 세종시는 예외"
   ]
  },
  {
   "cell_type": "code",
   "execution_count": null,
   "metadata": {},
   "outputs": [],
   "source": [
    "ID_candi = [sido_candi[n]+ ' '+sigun_candi[n] for n in range(0, len(sigun_candi))]\n",
    "\n",
    "ID_candi = [name[1:] if name[0]==' ' else name for name in ID_candi]\n",
    "ID_candi = [name[:2] if name[:2]=='세종' else name for name in ID_candi]\n",
    "\n",
    "ID_candi\n"
   ]
  },
  {
   "cell_type": "markdown",
   "metadata": {},
   "source": [
    "#### 위에서 만든 ID_candi와 election_result와 합침, 지도를 그리기 위한 과정"
   ]
  },
  {
   "cell_type": "code",
   "execution_count": null,
   "metadata": {},
   "outputs": [],
   "source": [
    "election_result['ID'] = ID_candi\n",
    "election_result.head(10)"
   ]
  },
  {
   "cell_type": "markdown",
   "metadata": {},
   "source": [
    "#### 문재인, 홍준표, 안철수의 득표수에서 투표자수를 나누어 득표율 계산"
   ]
  },
  {
   "cell_type": "code",
   "execution_count": null,
   "metadata": {},
   "outputs": [],
   "source": [
    "election_result[['rate_moon', 'rate_hong', 'rate_ahn']] = ＼\n",
    "            election_result[['moon', 'hong', 'ahn']].div(election_result['pop'], axis=0)\n",
    "election_result[['rate_moon', 'rate_hong', 'rate_ahn']] *= 100\n",
    "election_result.head()"
   ]
  },
  {
   "cell_type": "markdown",
   "metadata": {},
   "source": [
    "#### 문재인의 득표율이 높은 순으로 정렬"
   ]
  },
  {
   "cell_type": "code",
   "execution_count": null,
   "metadata": {},
   "outputs": [],
   "source": [
    "election_result.sort_values(['rate_moon'], ascending=[False]).head(10)"
   ]
  },
  {
   "cell_type": "markdown",
   "metadata": {},
   "source": [
    "#### 홍준표 득표율이 높은 지역순으로 나열"
   ]
  },
  {
   "cell_type": "code",
   "execution_count": null,
   "metadata": {},
   "outputs": [],
   "source": [
    "election_result.sort_values(['rate_hong'], ascending=[False]).head(10)"
   ]
  },
  {
   "cell_type": "markdown",
   "metadata": {},
   "source": [
    "#### 안철수 득표율이 높은 지역순으로 나열"
   ]
  },
  {
   "cell_type": "code",
   "execution_count": null,
   "metadata": {},
   "outputs": [],
   "source": [
    "election_result.sort_values(['rate_ahn'], ascending=[False]).head(10)"
   ]
  },
  {
   "cell_type": "markdown",
   "metadata": {},
   "source": [
    "#### draw_korea.csv 파일을 읽어 전국 지도 그리기"
   ]
  },
  {
   "cell_type": "code",
   "execution_count": null,
   "metadata": {},
   "outputs": [],
   "source": [
    "draw_korea = pd.read_csv('C:/Users/dwlio/Documents/python/Dongwon_2013136129/Ch6/data/05. draw_korea.csv', encoding='utf-8', index_col=0)\n",
    "draw_korea.head()"
   ]
  },
  {
   "cell_type": "markdown",
   "metadata": {},
   "source": [
    "#### 지도의 좌표가 맞는지 확인하기 위해 서로 차집합이 공집합인지를 확인"
   ]
  },
  {
   "cell_type": "code",
   "execution_count": null,
   "metadata": {},
   "outputs": [],
   "source": [
    "set(draw_korea['ID'].unique()) - set(election_result['ID'].unique())"
   ]
  },
  {
   "cell_type": "code",
   "execution_count": null,
   "metadata": {},
   "outputs": [],
   "source": [
    "set(election_result['ID'].unique()) - set(draw_korea['ID'].unique())"
   ]
  },
  {
   "cell_type": "markdown",
   "metadata": {},
   "source": [
    "#### 강원도 고성과 경남 고성을 구분"
   ]
  },
  {
   "cell_type": "code",
   "execution_count": null,
   "metadata": {},
   "outputs": [],
   "source": [
    "election_result[election_result['ID'] == '고성']"
   ]
  },
  {
   "cell_type": "code",
   "execution_count": null,
   "metadata": {},
   "outputs": [],
   "source": [
    "election_result.loc[125, 'ID'] = '고성(강원)'\n",
    "election_result.loc[233, 'ID'] = '고성(경남)'\n",
    "\n",
    "election_result[election_result['시군']=='고성군']"
   ]
  },
  {
   "cell_type": "markdown",
   "metadata": {},
   "source": [
    "#### 지도로 시각화 하기에 이름이 너무 긴 마산회원구는 각각 합포,회원 으로 변경"
   ]
  },
  {
   "cell_type": "code",
   "execution_count": null,
   "metadata": {},
   "outputs": [],
   "source": [
    "election_result[election_result['광역시도'] == '경상남도']"
   ]
  },
  {
   "cell_type": "code",
   "execution_count": null,
   "metadata": {},
   "outputs": [],
   "source": [
    "election_result.loc[228, 'ID'] = '창원 합포'\n",
    "election_result.loc[229, 'ID'] = '창원 회원'\n",
    "\n",
    "election_result[election_result['광역시도'] == '경상남도']"
   ]
  },
  {
   "cell_type": "markdown",
   "metadata": {},
   "source": [
    "#### 2016년 6월에 사라진 소사, 오정, 원미구가 draw_korea에는 존재하지만 election_result에는 없음"
   ]
  },
  {
   "cell_type": "code",
   "execution_count": null,
   "metadata": {},
   "outputs": [],
   "source": [
    "set(draw_korea['ID'].unique()) - set(election_result['ID'].unique())"
   ]
  },
  {
   "cell_type": "code",
   "execution_count": null,
   "metadata": {},
   "outputs": [],
   "source": [
    "set(election_result['ID'].unique()) - set(draw_korea['ID'].unique())"
   ]
  },
  {
   "cell_type": "markdown",
   "metadata": {},
   "source": [
    "#### 따라서 편의상 부천 인구수를 3으로 나눔\n",
    "\n",
    "#### 부천 전체데이터 확인"
   ]
  },
  {
   "cell_type": "code",
   "execution_count": null,
   "metadata": {},
   "outputs": [],
   "source": [
    "election_result[election_result['시군'] == '부천시']"
   ]
  },
  {
   "cell_type": "markdown",
   "metadata": {},
   "source": [
    "#### 데이터 삽입할 index번호 확인, 250 부터 넣어주면 됨"
   ]
  },
  {
   "cell_type": "code",
   "execution_count": null,
   "metadata": {},
   "outputs": [],
   "source": [
    "election_result.tail()"
   ]
  },
  {
   "cell_type": "code",
   "execution_count": null,
   "metadata": {},
   "outputs": [],
   "source": [
    "ahn_tmp = election_result.loc[85, 'ahn']/3\n",
    "hong_tmp = election_result.loc[85, 'hong']/3\n",
    "moon_tmp = election_result.loc[85, 'moon']/3\n",
    "pop_tmp = election_result.loc[85, 'pop']/3\n",
    "\n",
    "rate_moon_tmp = election_result.loc[85, 'rate_moon']\n",
    "rate_hong_tmp = election_result.loc[85, 'rate_hong']\n",
    "rate_ahn_tmp = election_result.loc[85, 'rate_ahn']\n",
    "\n",
    "election_result.loc[250] = [ahn_tmp, hong_tmp, moon_tmp, pop_tmp,\n",
    "                           '경기도', '부천시', '부천 소사,\n",
    "                            rate_moon_tmp, rate_hong_tmp, rate_ahn_tmp]\n",
    "election_result.loc[251] = [ahn_tmp, hong_tmp, moon_tmp, pop_tmp,\n",
    "                           '경기도', '부천시', '부천 오정,\n",
    "                            rate_moon_tmp, rate_hong_tmp, rate_ahn_tmp]\n",
    "election_result.loc[250] = [ahn_tmp, hong_tmp, moon_tmp, pop_tmp,\n",
    "                           '경기도', '부천시', '부천 원미,\n",
    "                            rate_moon_tmp, rate_hong_tmp, rate_ahn_tmp]\n",
    "                            \n"
   ]
  },
  {
   "cell_type": "code",
   "execution_count": null,
   "metadata": {},
   "outputs": [],
   "source": [
    "election_result[election_result['시군'] == '부천시']"
   ]
  },
  {
   "cell_type": "markdown",
   "metadata": {},
   "source": [
    "#### 남아있는 index 85의 부천시는 제거"
   ]
  },
  {
   "cell_type": "code",
   "execution_count": null,
   "metadata": {},
   "outputs": [],
   "source": [
    "election_result.drop([85], inplace=True)\n",
    "election_result[election_result['시군'] == '부천시']"
   ]
  },
  {
   "cell_type": "markdown",
   "metadata": {},
   "source": [
    "#### 다시 서로의 차집합을 계산해 차집합이 공집합인 것을 확인"
   ]
  },
  {
   "cell_type": "code",
   "execution_count": null,
   "metadata": {},
   "outputs": [],
   "source": [
    "set(draw_korea['ID'].unique()) - set(election_result['ID'].unique())"
   ]
  },
  {
   "cell_type": "code",
   "execution_count": null,
   "metadata": {},
   "outputs": [],
   "source": [
    "set(election_result['ID'].unique() -draw_korea['ID'].unique())"
   ]
  },
  {
   "cell_type": "markdown",
   "metadata": {},
   "source": [
    "#### election_result와 draw_korea를 합쳐서 final_elect_data에 저장\n",
    "\n",
    "#### 문vs홍, 문vs안, 홍vs안 득표율 차이를 계산"
   ]
  },
  {
   "cell_type": "code",
   "execution_count": null,
   "metadata": {},
   "outputs": [],
   "source": [
    "final_elect_data = pd.merge(election_result, draw_korea, how='left', on=['ID'])\n",
    "final_elect_data.head()"
   ]
  },
  {
   "cell_type": "code",
   "execution_count": null,
   "metadata": {},
   "outputs": [],
   "source": [
    "final_elect_data['moon_vs_hong'] = final_elect_data['rate_moon'] - \n",
    "                                    final_elect_data['rate_hong']\n",
    "final_elect_data['moon_vs_ahn'] = final_elect_data['rate_moon'] - \n",
    "                                    final_elect_data['rate_ahn']\n",
    "final_elect_data['ahn_vs_hong'] = final_elect_data['rate_ahn'] - \n",
    "                                    final_elect_data['rate_hong']"
   ]
  },
  {
   "cell_type": "markdown",
   "metadata": {},
   "source": [
    "#### 경계선 그리기"
   ]
  },
  {
   "cell_type": "code",
   "execution_count": null,
   "metadata": {},
   "outputs": [],
   "source": [
    "BORDER_LINES = [\n",
    "    [(5,1), (5,2), (7,2), (7,3), (11,3), (11,0)], #인천\n",
    "    [(5,4), (5,5), (2,5), (2,7), (4,7), (4,9), (7,9),\n",
    "     (7,7), (9,7), (9,5), (10,5), (10,4), (5,4)], #서울\n",
    "    [(1,7), (1,8), (3,8), (3,10), (10,10), (10,7),\n",
    "     (12,7), (12,6), (11,6), (11,5), (12,5), (12,4), \n",
    "     (11,4), (11,3)], #경기도\n",
    "    [(8,10), (8,11), (6,11), (6,12)], #강원도\n",
    "    [(12,5), (13,5), (13,4), (14,4), (14,5), (15,5),\n",
    "     (15,4), (16,4), (16,2)], #충청북도\n",
    "    [(16,4), (17,4), (17,5), (16,5), (16,6), (19,6),\n",
    "     (19,5), (20,5), (20,4), (21,4), (21,3), (19,3), (19,1)], #전라북도\n",
    "    [(13,5), (13,6), (16,6)], #대전시\n",
    "    [(13,5), (14,5)], #세종시\n",
    "    [(21,2), (21,3), (22,3), (22,4), (24,4), (24,2), (21,2)], #광주\n",
    "    [(20,5), (21,5), (21,6), (23,6)], #전라남도\n",
    "    [(10,8), (12,8), (12,9), (14,9), (14,8), (16,8), (16,6)], #충청북도\n",
    "    [(14,9), (14,11), (14,12), (13,12), (13,13)], #경상북도\n",
    "    [(15,8), (17,8), (17,10), (16,10), (16,11), (14,11)], #대구\n",
    "    [(17,9), (18,9), (18,8), (19,8), (19,9), (20,9), (20,10), (21,10)], #부산\n",
    "    [(16,11), (16,13)], #울산\n",
    "#    [(9,14), (9,15)],\n",
    "    [(27,5), (27,6), (25,6)],\n",
    "]"
   ]
  },
  {
   "cell_type": "code",
   "execution_count": null,
   "metadata": {},
   "outputs": [],
   "source": [
    "def drawkoread(targetData, blockedMap, cmapname):\n",
    "    gamma = 0.75\n",
    "    \n",
    "    whitelabelmin = 20.\n",
    "    \n",
    "    datalabel =targetData\n",
    "    \n",
    "    tmp_max = max([np.abs(min(blockedMap[targetData])),\n",
    "                   np.abs(max(blockedMap[targetData]))])\n",
    "    vmin, vmax = -tmp_max, tmp_max\n",
    "    \n",
    "    mapdata = blockedMap.pivot_table(index='y', columns='x', values=targetData)\n",
    "    masked_mapdata = np.ma.masked_where(np.isnan(mapdata), mapdata)\n",
    "    \n",
    "    plt.figure(figsize=(9, 11))\n",
    "    \n",
    "    plt.pcolor(masked_mapdata, vmin=vmin, vmax=vmax, cmap=cmapname,\n",
    "              edgecolor='#aaaaaa', linewidth=0.5)\n",
    "\n",
    "  # 지역 이름 표시\n",
    "for idx, row in draw_korea.iterrows():\n",
    "    \n",
    "    # 광역시는 구 이름이 겹치는 경우가 많아서 시단위 이름도 같이 표시한다. \n",
    "    #(중구, 서구)\n",
    "    if len(row['ID'].split())== 2:\n",
    "        dispname = '{}\\n{}'.format(row['ID'].split()[0], row['ID'].split()[1])\n",
    "    elif row['ID'][:2]=='고성':\n",
    "        dispname = '고성'\n",
    "    else:\n",
    "        dispname = row['ID']\n",
    "\n",
    "    # 서대문구, 서귀포시 같이 이름이 3자 이상인 경우에 작은 글자로 표시한다.\n",
    "    if len(dispname.splitlines()[-1]) >= 3:\n",
    "        fontsize, linespacing = 10.0, 1.1\n",
    "    else:\n",
    "        fontsize, linespacing = 11, 1\n",
    "\n",
    "    annocolor = 'white' if np.abs(row[targetData]) > whitelabelmin else 'black'\n",
    "    plt.annotate(dispname, (row['x']+0.5, row['y']+0.5), weight='bold',\n",
    "                 fontsize=fontsize, ha='center', va='center', color=annocolor,\n",
    "                 linespacing=linespacing)\n",
    "    \n",
    "# 시도 경계 그린다.\n",
    "for path in BORDER_LINES:\n",
    "    ys, xs = zip(*path)\n",
    "    plt.plot(xs, ys, c='black', lw=2)\n",
    "\n",
    "plt.gca().invert_yaxis()\n",
    "#plt.gca().set_aspect(1)\n",
    "#y축이 엑셀에서 0번이 시작하는 것과 matplotlib가 0이라고 인식하는 좌표가 서로 반대이기 때문\n",
    "\n",
    "plt.axis('off')\n",
    "\n",
    "cb = plt.colorbar(shrink=.1, aspect=10)\n",
    "cb.set_label(datalabel)\n",
    "\n",
    "plt.tight_layout()\n",
    "plt.show()"
   ]
  },
  {
   "cell_type": "markdown",
   "metadata": {},
   "source": [
    "#### 문재인 vs 홍준표"
   ]
  },
  {
   "cell_type": "code",
   "execution_count": null,
   "metadata": {},
   "outputs": [],
   "source": [
    "drawKorea('monn_vs_hong', final_elect_data, 'RdBu')"
   ]
  },
  {
   "cell_type": "markdown",
   "metadata": {},
   "source": [
    "#### 문재인 vs 안철수"
   ]
  },
  {
   "cell_type": "code",
   "execution_count": null,
   "metadata": {},
   "outputs": [],
   "source": [
    "drawKorea('monn_vs_ahn', final_elect_data, 'RdBu')"
   ]
  },
  {
   "cell_type": "markdown",
   "metadata": {},
   "source": [
    "#### 안철수 vs 홍준표"
   ]
  },
  {
   "cell_type": "code",
   "execution_count": null,
   "metadata": {},
   "outputs": [],
   "source": [
    "drawKorea('ahn_vs_ahn', final_elect_data, 'RdBu')"
   ]
  },
  {
   "cell_type": "code",
   "execution_count": null,
   "metadata": {},
   "outputs": [],
   "source": [
    "import folium\n",
    "import json\n",
    "import warnings\n",
    "warnings.simplefilter(action='ignore', category=FutureWarning)"
   ]
  },
  {
   "cell_type": "code",
   "execution_count": null,
   "metadata": {},
   "outputs": [],
   "source": [
    "pop_folium = final_elect_data.set_index('ID')\n",
    "\n",
    "del pop_folium['광역시도']\n",
    "del pop_folium['시군']\n",
    "\n",
    "pop_folium.head()"
   ]
  },
  {
   "cell_type": "code",
   "execution_count": null,
   "metadata": {},
   "outputs": [],
   "source": [
    "geo_path = 'C:/Users/dwlio/Documents/python/Dongwon_2013136129/Ch6/data/05. skorea_muncipalities_geo_simple.json'\n",
    "geo_data = json.load(open(geo_path, encoding='utf-8'))\n",
    "\n",
    "map = folium.Map(location =[36.2002, 127.054], zoom_start=6)\n",
    "map.choropleth(geo_str = geo_str,\n",
    "              data = pop_folium['moon_vs_hong'],\n",
    "              columns = [pop_folium.index, pop_folium['monn_vs_hong']],\n",
    "              fill_collor = 'PuBu', #PuRd, YlGnBu\n",
    "              key_on = 'feature.id')\n",
    "\n",
    "map"
   ]
  }
 ],
 "metadata": {
  "kernelspec": {
   "display_name": "Python 3",
   "language": "python",
   "name": "python3"
  },
  "language_info": {
   "codemirror_mode": {
    "name": "ipython",
    "version": 3
   },
   "file_extension": ".py",
   "mimetype": "text/x-python",
   "name": "python",
   "nbconvert_exporter": "python",
   "pygments_lexer": "ipython3",
   "version": "3.6.4"
  }
 },
 "nbformat": 4,
 "nbformat_minor": 2
}
